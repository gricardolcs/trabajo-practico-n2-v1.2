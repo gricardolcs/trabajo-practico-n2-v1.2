{
 "cells": [
  {
   "cell_type": "markdown",
   "id": "890481f6",
   "metadata": {},
   "source": [
    "# Libreries"
   ]
  },
  {
   "cell_type": "code",
   "execution_count": null,
   "id": "9a2abfa6",
   "metadata": {
    "notebookRunGroups": {
     "groupValue": "1"
    }
   },
   "outputs": [],
   "source": [
    "import pandas as pd\n",
    "import numpy as np\n",
    "from collections import Counter\n",
    "import seaborn as sns  #for data visualization operations\n",
    "import matplotlib.pyplot as plt  #for data visualization operations\n",
    "import plotly.express as px #for scatter 3d\n",
    "from sklearn.preprocessing import LabelEncoder, StandardScaler, MinMaxScaler # for encoding and standardization\n",
    "from sklearn.model_selection import train_test_split\n",
    "from sklearn.metrics import confusion_matrix, accuracy_score, classification_report\n",
    "from sklearn.linear_model import LogisticRegression\n",
    "from sklearn import metrics\n",
    "from sklearn.neighbors import KNeighborsClassifier\n",
    "from sklearn.svm import SVC\n",
    "from sklearn.tree import DecisionTreeClassifier\n",
    "from sklearn.ensemble import RandomForestClassifier\n",
    "from sklearn.ensemble import GradientBoostingClassifier\n",
    "from xgboost import XGBClassifier\n",
    "from prettytable import PrettyTable\n",
    "%matplotlib inline\n",
    "\n",
    "# to ignore warnings\n",
    "import warnings\n",
    "warnings.filterwarnings(\"ignore\")"
   ]
  },
  {
   "cell_type": "markdown",
   "id": "4e889af0",
   "metadata": {},
   "source": [
    "# Load DataSet"
   ]
  },
  {
   "cell_type": "code",
   "execution_count": null,
   "id": "5bf5455f",
   "metadata": {},
   "outputs": [],
   "source": [
    "pathAndFileName = '../data/smoking.csv'\n",
    "# Load the dataset\n",
    "data = pd.read_csv(pathAndFileName)\n",
    "df = data.copy()\n",
    "df.head(n = 10).style.background_gradient(cmap = \"Greens\") \n"
   ]
  },
  {
   "cell_type": "code",
   "execution_count": null,
   "id": "6f8b304d",
   "metadata": {},
   "outputs": [],
   "source": [
    "TRAIN_FILE = 'train'\n",
    "TEST_FILE = 'test'\n",
    "PATH_DATA = '../data/'\n",
    "EXTENSION_FILE = '.csv'\n",
    "\n",
    "comp_data_df_train = pd.read_csv(PATH_DATA + TRAIN_FILE + EXTENSION_FILE)\n",
    "df_test = pd.read_csv(PATH_DATA + TEST_FILE + EXTENSION_FILE)\n",
    "comp_data_df_train.head(n = 10).style.background_gradient(cmap = \"Greens\")\n"
   ]
  },
  {
   "cell_type": "code",
   "execution_count": null,
   "id": "dc706d3e",
   "metadata": {},
   "outputs": [],
   "source": [
    "# drop columns\n",
    "comp_data_df_train = comp_data_df_train.drop(columns=['id'])\n",
    "df_test = df_test.drop(columns=['id'])\n",
    "data = data.drop(columns=['ID', 'gender', 'oral', 'tartar'])\n",
    "\n",
    "data.shape\n",
    "print(\"competition train shape:\", comp_data_df_train.shape)\n",
    "print(\"original train shape:\", data.shape)"
   ]
  },
  {
   "cell_type": "code",
   "execution_count": null,
   "id": "b3d9579f",
   "metadata": {},
   "outputs": [],
   "source": [
    "# combine datasets\n",
    "df_train = pd.concat([comp_data_df_train, data])\n",
    "df_train.shape\n",
    "\n",
    "df_train = df_train.drop_duplicates()\n",
    "df_train.shape\n",
    "\n",
    "df_train.isna().sum()\n",
    "df_test.isna().sum()\n",
    "\n",
    "new_col_names = {\n",
    "    \"systolic\": \"systolic bp\",\n",
    "    \"relaxation\": \"diastolic bp\",\n",
    "    \"Gtp\": \"GGT\",\n",
    "    \"dental caries\": \"dental cavities\"\n",
    "}\n"
   ]
  },
  {
   "cell_type": "code",
   "execution_count": null,
   "id": "aca2cd40",
   "metadata": {},
   "outputs": [],
   "source": [
    "# Drop ID\n",
    "df = df.drop(\"ID\", axis = 1)\n",
    "df.columns\n",
    "\n"
   ]
  },
  {
   "cell_type": "code",
   "execution_count": null,
   "id": "471cce4e",
   "metadata": {},
   "outputs": [],
   "source": [
    "# Checking the nulls\n",
    "df.isnull().sum()"
   ]
  },
  {
   "cell_type": "code",
   "execution_count": null,
   "id": "dade16c7",
   "metadata": {},
   "outputs": [],
   "source": [
    "df.shape"
   ]
  },
  {
   "cell_type": "code",
   "execution_count": null,
   "id": "9fb4b1e7",
   "metadata": {},
   "outputs": [],
   "source": [
    "# Droping the redundant data\n",
    "df = df.drop_duplicates()"
   ]
  },
  {
   "cell_type": "code",
   "execution_count": null,
   "id": "cdc6c160",
   "metadata": {},
   "outputs": [],
   "source": [
    "df.shape"
   ]
  },
  {
   "cell_type": "markdown",
   "id": "3c67b9c1",
   "metadata": {},
   "source": [
    "# Removing and Checking Outliers"
   ]
  },
  {
   "cell_type": "code",
   "execution_count": null,
   "id": "c909328a",
   "metadata": {},
   "outputs": [],
   "source": [
    "df.head(n = 10).style.background_gradient(cmap = \"Greens\")"
   ]
  },
  {
   "cell_type": "code",
   "execution_count": null,
   "id": "f2855c3a",
   "metadata": {},
   "outputs": [],
   "source": [
    "# Specify the columns to plot\n",
    "numeric_cols = ['age', 'height(cm)', 'weight(kg)', 'waist(cm)', 'eyesight(left)', 'eyesight(right)', 'hearing(left)', 'hearing(right)', 'systolic', 'relaxation', 'fasting blood sugar', 'Cholesterol', 'triglyceride', 'HDL', 'LDL', 'hemoglobin', 'Urine protein', 'AST', 'ALT', 'Gtp', 'dental caries']\n",
    "\n",
    "# Create a figure and axis object\n",
    "fig, ax = plt.subplots(figsize=(28,8))\n",
    "\n",
    "# Create the boxplot\n",
    "df[numeric_cols].boxplot(ax=ax)\n",
    "\n",
    "# Set the plot title\n",
    "ax.set_title('Boxplot of Numerical Columns')\n",
    "\n",
    "# Show the plot\n",
    "plt.show()"
   ]
  },
  {
   "cell_type": "markdown",
   "id": "7e3a2014",
   "metadata": {},
   "source": [
    "# Plotting each colummns\n"
   ]
  },
  {
   "cell_type": "code",
   "execution_count": null,
   "id": "9eaf3431",
   "metadata": {},
   "outputs": [],
   "source": [
    "# Loop over each column in the DataFrame\n",
    "for column_name in numeric_cols:\n",
    "    \n",
    "    sns.set_style(\"whitegrid\")\n",
    "    sns.kdeplot(data=df[column_name])\n",
    "    plt.xlabel(\"Values\")\n",
    "    plt.title(\"Density plot of \" + column_name)\n",
    "    plt.show()"
   ]
  },
  {
   "cell_type": "markdown",
   "id": "051000f3",
   "metadata": {
    "notebookRunGroups": {
     "groupValue": "2"
    }
   },
   "source": [
    "# Division Smoking Not Smoking"
   ]
  },
  {
   "cell_type": "code",
   "execution_count": null,
   "id": "ee6cf485",
   "metadata": {},
   "outputs": [],
   "source": [
    "plt.figure(figsize=(10, 6))\n",
    "sns.countplot(x='smoking', data=data)\n",
    "plt.title('Distribution of Smokers vs Non-Smokers')\n",
    "plt.xlabel('Smoker')\n",
    "plt.ylabel('Count')\n",
    "plt.show()"
   ]
  },
  {
   "cell_type": "code",
   "execution_count": null,
   "id": "a5724575",
   "metadata": {},
   "outputs": [],
   "source": [
    "# ----------------------------------------------------------------------------------- #\n",
    "# visually exploring the distribution of each feature and how it relates\n",
    "# to the target variable 'smoking'. It helps in identifying potential patterns\n",
    "# and differences between the two groups.\n",
    "# ----------------------------------------------------------------------------------- #\n",
    "plt.pie(df_train['smoking'].value_counts(), labels=['Smoking', 'Non-smoking'], autopct='%1.1f%%', textprops={'fontsize': 14});\n",
    "num_cols = len(df_train.columns)\n",
    "plt.figure(figsize=(16, num_cols*1.5))\n",
    "for i, col in enumerate(df_train.columns):\n",
    "    plt.subplot(num_cols//2 + num_cols%2, 4, i + 1)\n",
    "    sns.histplot(x=col, hue='smoking', data=df_train, bins=50)\n",
    "    plt.title(f'{col} Distribution')\n",
    "    plt.tight_layout()\n",
    "plt.show()\n",
    "\n"
   ]
  },
  {
   "cell_type": "markdown",
   "id": "759dd221",
   "metadata": {},
   "source": [
    "##### Here we use IQR to detect the outliers and be able to remove them"
   ]
  },
  {
   "cell_type": "code",
   "execution_count": null,
   "id": "0b6ff0f0",
   "metadata": {},
   "outputs": [],
   "source": [
    "def detect_outliers(df, min_outlier_occurrences, columns):\n",
    "    outlier_rows = []\n",
    "    for col in columns:\n",
    "        q1 = np.nanpercentile(df[col], 25)\n",
    "        q3 = np.nanpercentile(df[col], 75)\n",
    "        iqr = q3 - q1\n",
    "        outlier_point = 1.5 * iqr\n",
    "        outliers = df[(df[col] < q1 - outlier_point) | (df[col] > q3 + outlier_point)].index\n",
    "        outlier_rows.extend(outliers)\n",
    "\n",
    "    outlier_counts = Counter(outlier_rows)\n",
    "    outlier_rows_to_drop = [row for row, count in outlier_counts.items() if count >= min_outlier_occurrences]\n",
    "\n",
    "    return outlier_rows_to_drop\n",
    "\n",
    "\n",
    "outlier_rows = detect_outliers(df, 5, df.select_dtypes([\"float\", \"int\"]).columns)\n",
    "df = df.drop(outlier_rows)"
   ]
  },
  {
   "cell_type": "code",
   "execution_count": null,
   "id": "0ee379fc",
   "metadata": {},
   "outputs": [],
   "source": [
    "df.isnull().sum()"
   ]
  },
  {
   "cell_type": "code",
   "execution_count": null,
   "id": "b56847f5",
   "metadata": {},
   "outputs": [],
   "source": [
    "df.shape"
   ]
  },
  {
   "cell_type": "code",
   "execution_count": null,
   "id": "f8932fd9",
   "metadata": {},
   "outputs": [],
   "source": [
    "df.describe()"
   ]
  },
  {
   "cell_type": "code",
   "execution_count": null,
   "id": "ad1ad350",
   "metadata": {},
   "outputs": [],
   "source": [
    "df.info()"
   ]
  },
  {
   "cell_type": "code",
   "execution_count": null,
   "id": "32271da4",
   "metadata": {},
   "outputs": [],
   "source": [
    "df.groupby('gender').size().plot(kind='pie', explode=[0,0.1], autopct='%1.1f%%', shadow=True, colors=[\"pink\", \"gray\"], title=\"Gender\")"
   ]
  },
  {
   "cell_type": "code",
   "execution_count": null,
   "id": "e69ad364",
   "metadata": {},
   "outputs": [],
   "source": [
    "df.groupby('tartar').size().plot(kind='bar', title=\"Tartar\", rot=0, xlabel='Age', ylabel='Count')"
   ]
  },
  {
   "cell_type": "code",
   "execution_count": null,
   "id": "18f356bd",
   "metadata": {},
   "outputs": [],
   "source": [
    "fig, axes = plt.subplots(2, 3, figsize = (20, 12))\n",
    "axes = axes.flatten()\n",
    "\n",
    "sns.scatterplot(ax = axes[0], x = \"relaxation\", y = \"hemoglobin\",\n",
    "                hue = \"smoking\", size = \"gender\", sizes=(20, 100), legend=\"full\",\n",
    "                data = df).set(title = \"Relationship between 'Relaxation' and 'hemoglobin'\");\n",
    "\n",
    "sns.scatterplot(ax = axes[1], x = \"systolic\", y = \"Cholesterol\", hue = \"smoking\",\n",
    "                size = \"gender\", sizes=(20, 100), legend=\"full\",\n",
    "                data = df).set(title = \"Relationship between 'Systolic' and 'cholesterol'\");\n",
    "\n",
    "sns.scatterplot(ax = axes[2], x = \"LDL\", y = \"Urine protein\", hue = \"smoking\",\n",
    "                size = \"gender\", sizes=(20, 100), legend=\"full\",\n",
    "                data = df).set(title = \"Relationship between 'LDL' and 'urine protein'\");\n",
    "\n",
    "sns.scatterplot(ax = axes[3], x = \"HDL\", y = \"serum creatinine\", hue = \"smoking\",\n",
    "                size = \"gender\", sizes=(20, 100), legend=\"full\",\n",
    "                data = df).set(title = \"Relationship between 'HDL' and 'serum creatinine'\");\n",
    "\n",
    "sns.scatterplot(ax = axes[4], x = \"weight(kg)\", y = \"Gtp\", hue = \"smoking\",\n",
    "                size = \"gender\", sizes=(20, 100), legend=\"full\",\n",
    "                data = df).set(title = \"Relationship between 'GTP' and 'age'\");\n",
    "\n",
    "sns.scatterplot(ax = axes[5], x = \"AST\", y = \"fasting blood sugar\", hue = \"smoking\",\n",
    "                size = \"gender\", sizes=(20, 100), legend=\"full\",\n",
    "                data = df).set(title = \"Relationship between 'AST' and 'fasting blood sugar'\");"
   ]
  },
  {
   "cell_type": "code",
   "execution_count": null,
   "id": "de597bd5",
   "metadata": {},
   "outputs": [],
   "source": [
    "df.hist(figsize = (20, 20), bins = 12, legend = False);"
   ]
  },
  {
   "cell_type": "code",
   "execution_count": null,
   "id": "1bd3d4c1",
   "metadata": {},
   "outputs": [],
   "source": [
    "fig, axes = plt.subplots(2, 2, figsize = (12, 12))\n",
    "axes = axes.flatten()\n",
    "\n",
    "sns.barplot(ax=axes[0],\n",
    "            x=df[\"gender\"].value_counts().index,\n",
    "            y=df[\"gender\"].value_counts().values,\n",
    "            saturation=1).set(title=\"Frequency of classes of the 'gender' variable\")\n",
    "\n",
    "sns.barplot(ax=axes[1],\n",
    "            x=df[\"tartar\"].value_counts().index,\n",
    "            y=df[\"tartar\"].value_counts().values,\n",
    "            saturation=1).set(title=\"Frequency of cases of tartar\")\n",
    "\n",
    "sns.barplot(ax=axes[2],\n",
    "            x=df[\"dental caries\"].value_counts().index,\n",
    "            y=df[\"dental caries\"].value_counts().values,\n",
    "            saturation=1).set(title=\"Frequency of cases of dental caries\")\n",
    "\n",
    "sns.barplot(ax=axes[3],\n",
    "            x=df[\"smoking\"].value_counts().index,\n",
    "            y=df[\"smoking\"].value_counts().values,\n",
    "            saturation=1).set(title=\"Frequency of classes of the 'smoking' variable\")"
   ]
  },
  {
   "cell_type": "code",
   "execution_count": null,
   "id": "97fef44f",
   "metadata": {},
   "outputs": [],
   "source": [
    "fig = px.scatter_3d(df, \n",
    "                    x = \"hemoglobin\",\n",
    "                    y = \"age\",\n",
    "                    z = \"Cholesterol\",\n",
    "                    color=\"smoking\")\n",
    "fig.show();"
   ]
  },
  {
   "cell_type": "markdown",
   "id": "8e0d54d0",
   "metadata": {},
   "source": [
    "# DATA PROCESSING"
   ]
  },
  {
   "cell_type": "code",
   "execution_count": null,
   "id": "ce92281a",
   "metadata": {},
   "outputs": [],
   "source": [
    "lbe = LabelEncoder()\n",
    "lbe.fit_transform(df[\"gender\"])\n",
    "df[\"gender\"] = lbe.fit_transform(df[\"gender\"])\n",
    "lbe.fit_transform(df[\"tartar\"])\n",
    "df[\"tartar\"] = lbe.fit_transform(df[\"tartar\"])\n",
    "lbe.fit_transform(df[\"oral\"])\n",
    "df[\"oral\"] = lbe.fit_transform(df[\"oral\"])\n",
    "lbe.fit_transform(df[\"smoking\"])\n",
    "df[\"smoking\"] = lbe.fit_transform(df[\"smoking\"])"
   ]
  },
  {
   "cell_type": "code",
   "execution_count": null,
   "id": "1108df6d",
   "metadata": {},
   "outputs": [],
   "source": [
    "df.head()"
   ]
  },
  {
   "cell_type": "code",
   "execution_count": null,
   "id": "ed7080b1",
   "metadata": {},
   "outputs": [],
   "source": [
    "# select dependent variable (label)\n",
    "y = df[\"smoking\"]\n",
    "\n",
    "# select independent variable (estimator)\n",
    "x = df.drop(\"smoking\", axis = 1)"
   ]
  },
  {
   "cell_type": "code",
   "execution_count": null,
   "id": "25d74ab8",
   "metadata": {},
   "outputs": [],
   "source": [
    "# Train-Test-Split   \n",
    "x_train, x_test, y_train, y_test  = train_test_split(x, y, test_size=0.2, shuffle = True, random_state=1)"
   ]
  },
  {
   "cell_type": "markdown",
   "id": "67280c06",
   "metadata": {},
   "source": [
    "# Data Scalling"
   ]
  },
  {
   "cell_type": "code",
   "execution_count": null,
   "id": "8ec9e9d2",
   "metadata": {},
   "outputs": [],
   "source": [
    "scaler = StandardScaler()\n",
    "scaler.fit(x_train)\n",
    "x_train = scaler.transform(x_train)\n",
    "x_test = scaler.transform(x_test)"
   ]
  },
  {
   "cell_type": "markdown",
   "id": "94387505",
   "metadata": {},
   "source": [
    "# Clasisfication Models"
   ]
  },
  {
   "cell_type": "markdown",
   "id": "9132616e",
   "metadata": {},
   "source": [
    "## Support Vector Machine (SVM) Model "
   ]
  },
  {
   "cell_type": "code",
   "execution_count": null,
   "id": "a3c252a0",
   "metadata": {},
   "outputs": [],
   "source": [
    "svm = SVC(kernel='rbf')\n",
    "# fit the model with data\n",
    "svm.fit(x_train, y_train)\n",
    "# predict with test dataset\n",
    "y_predict_SVM = svm.predict(x_test)\n",
    "print(classification_report(y_test,y_predict_SVM))\n",
    "accuracy_Score_SVM = metrics.accuracy_score(y_test, y_predict_SVM)\n",
    "print('SVM model accuracy is: {:.2f}%'.format(accuracy_Score_SVM*100))"
   ]
  },
  {
   "cell_type": "markdown",
   "id": "dd1ca22c",
   "metadata": {},
   "source": [
    "### Confusion Matrix for SVM"
   ]
  },
  {
   "cell_type": "code",
   "execution_count": null,
   "id": "a65886ed",
   "metadata": {},
   "outputs": [],
   "source": [
    "cm = metrics.confusion_matrix(y_test, y_predict_SVM)\n",
    "print('Confusion Matrix for SVM :\\n', cm, '\\n')\n",
    "fig, ax = plt.subplots(figsize=(5, 5))\n",
    "ax.matshow(cm, cmap=plt.cm.Blues, alpha=0.5)\n",
    "for i in range(cm.shape[0]):\n",
    "    for j in range(cm.shape[1]):\n",
    "        ax.text(x=j, y=i,s=cm[i, j], va='center', ha='center', size='xx-large')\n",
    " \n",
    "plt.xlabel('Predictions', fontsize=18)\n",
    "plt.ylabel('Actuals', fontsize=18)\n",
    "plt.title('Confusion Matrix of SVM', fontsize=15)\n",
    "plt.show()"
   ]
  },
  {
   "cell_type": "markdown",
   "id": "d827bb72",
   "metadata": {},
   "source": [
    "## Random Forest Classifier  Model "
   ]
  },
  {
   "cell_type": "code",
   "execution_count": null,
   "id": "3362719b",
   "metadata": {},
   "outputs": [],
   "source": [
    "models = RandomForestClassifier(n_estimators=500)\n",
    "models.fit(x_train, y_train)\n",
    "# predict with test dataset\n",
    "y_predict_random = models.predict(x_test)\n",
    "print(classification_report(y_test,y_predict_random))\n",
    "accuracy_Score_random = metrics.accuracy_score(y_test, y_predict_random)\n",
    "print('RandomForest model accuracy is: {:.2f}%'.format(accuracy_Score_random*100))"
   ]
  },
  {
   "cell_type": "markdown",
   "id": "062afd28",
   "metadata": {},
   "source": [
    "### Confusion Matrix for Random Forest Classifier"
   ]
  },
  {
   "cell_type": "code",
   "execution_count": null,
   "id": "2433b1bf",
   "metadata": {},
   "outputs": [],
   "source": [
    "cm = metrics.confusion_matrix(y_test, y_predict_random)\n",
    "print('Confusion Matrix for Random Forest Classifier :\\n', cm, '\\n')\n",
    "fig, ax = plt.subplots(figsize=(5, 5))\n",
    "ax.matshow(cm, cmap=plt.cm.Blues, alpha=0.5)\n",
    "for i in range(cm.shape[0]):\n",
    "    for j in range(cm.shape[1]):\n",
    "        ax.text(x=j, y=i,s=cm[i, j], va='center', ha='center', size='xx-large')\n",
    " \n",
    "plt.xlabel('Predictions', fontsize=18)\n",
    "plt.ylabel('Actuals', fontsize=18)\n",
    "plt.title('Confusion Matrix of Random Forest Classifier', fontsize=15)\n",
    "plt.show()"
   ]
  },
  {
   "cell_type": "markdown",
   "id": "286a0cb1",
   "metadata": {},
   "source": [
    "### XGBoost model"
   ]
  },
  {
   "cell_type": "code",
   "execution_count": null,
   "id": "672b58b6",
   "metadata": {},
   "outputs": [],
   "source": [
    "xgb_model = XGBClassifier(n_estimators = 600)\n",
    "xgb_model.fit(x_train, y_train)\n",
    "pred_xgb = xgb_model.predict(x_test)\n",
    "print(classification_report(y_test,pred_xgb))\n",
    "accuracy_Score_xgb = metrics.accuracy_score(y_test, pred_xgb)\n",
    "print('XGBoosting model accuracy is: {:.2f}%'.format(accuracy_Score_xgb*100))"
   ]
  },
  {
   "cell_type": "markdown",
   "id": "b295b33d",
   "metadata": {},
   "source": [
    "### Confusion Matrix for XGBoost model"
   ]
  },
  {
   "cell_type": "code",
   "execution_count": null,
   "id": "f08bab54",
   "metadata": {},
   "outputs": [],
   "source": [
    "cm = metrics.confusion_matrix(y_test, pred_xgb)\n",
    "print('Confusion Matrix for XGBoosting Classifier :\\n', cm, '\\n')\n",
    "fig, ax = plt.subplots(figsize=(5, 5))\n",
    "ax.matshow(cm, cmap=plt.cm.Blues, alpha=0.5)\n",
    "for i in range(cm.shape[0]):\n",
    "    for j in range(cm.shape[1]):\n",
    "        ax.text(x=j, y=i,s=cm[i, j], va='center', ha='center', size='xx-large')\n",
    " \n",
    "plt.xlabel('Predictions', fontsize=18)\n",
    "plt.ylabel('Actuals', fontsize=18)\n",
    "plt.title('Confusion Matrix of XGBoosting Classifier', fontsize=15)\n",
    "plt.show()"
   ]
  },
  {
   "cell_type": "markdown",
   "id": "4d318cb4",
   "metadata": {},
   "source": [
    "### Logistic Regression"
   ]
  },
  {
   "cell_type": "code",
   "execution_count": null,
   "id": "b8756c88",
   "metadata": {},
   "outputs": [],
   "source": [
    "C_list = [0.001, 0.01, 0.1, 1, 10]\n",
    "overall_scores = []\n",
    "for C in C_list:\n",
    "    print(f'Trying C={C}')\n",
    "    model = LogisticRegression(solver='lbfgs', C=C, random_state=SEED, max_iter=1000)\n",
    "    fold_score = fit_model_with_skf(X_train, y_train, model)\n",
    "    fold_score.append(C)\n",
    "    overall_scores.append(fold_score)"
   ]
  },
  {
   "cell_type": "code",
   "execution_count": null,
   "id": "e295ae6b",
   "metadata": {},
   "outputs": [],
   "source": [
    "for mean, std, C in overall_scores:\n",
    "    print(f'C={C: <5} mean: {mean:.4f}, std: +- {std:.4f}')"
   ]
  },
  {
   "cell_type": "code",
   "execution_count": null,
   "id": "32f0d205",
   "metadata": {},
   "outputs": [],
   "source": [
    "log_reg_final = LogisticRegression(solver='lbfgs', C=1, random_state=SEED, max_iter=1000)"
   ]
  },
  {
   "cell_type": "markdown",
   "id": "fc21b0ff",
   "metadata": {},
   "source": [
    "### Confussion Matrix for Logistic Regression"
   ]
  },
  {
   "cell_type": "code",
   "execution_count": null,
   "id": "98f0f1b1",
   "metadata": {},
   "outputs": [],
   "source": [
    "cm = metrics.confusion_matrix(y_test, pred_xgb)\n",
    "print('Confusion Matrix for Logistic Regression :\\n', cm, '\\n')\n",
    "fig, ax = plt.subplots(figsize=(5, 5))\n",
    "ax.matshow(cm, cmap=plt.cm.Blues, alpha=0.5)\n",
    "for i in range(cm.shape[0]):\n",
    "    for j in range(cm.shape[1]):\n",
    "        ax.text(x=j, y=i,s=cm[i, j], va='center', ha='center', size='xx-large')"
   ]
  },
  {
   "cell_type": "markdown",
   "id": "bae6416f",
   "metadata": {},
   "source": [
    "### ROC Curve"
   ]
  },
  {
   "cell_type": "code",
   "execution_count": null,
   "id": "05dba3c3",
   "metadata": {},
   "outputs": [],
   "source": [
    "from sklearn.metrics import roc_curve, roc_auc_score\n",
    "fpr, tpr, thresholds = roc_curve(y_test, pred_xgb)\n",
    "auc = roc_auc_score(y_test, pred_xgb)\n",
    "plt.figure(figsize=(8, 6))\n",
    "plt.plot(fpr, tpr, label='ROC curve (area = %0.2f)' % auc)\n",
    "plt.plot([0, 1], [0, 1], 'k--')  # Diagonal line\n",
    "plt.xlim([0.0, 1.0])\n",
    "plt.ylim([0.0, 1.0])\n",
    "plt.xlabel('False Positive Rate')\n",
    "plt.ylabel('True Positive Rate')\n",
    "plt.title('Receiver Operating Characteristic (ROC)')\n",
    "plt.legend(loc=\"lower right\")\n",
    "plt.show()"
   ]
  },
  {
   "cell_type": "markdown",
   "id": "0e6c5f36",
   "metadata": {},
   "source": [
    "### Feature Importance"
   ]
  },
  {
   "cell_type": "code",
   "execution_count": null,
   "id": "d46a0657",
   "metadata": {},
   "outputs": [],
   "source": [
    "# Get the feature importance scores\n",
    "importance_scores = xgb_model.feature_importances_\n",
    "\n",
    "# Get the names of the features\n",
    "feature_names = x.columns\n",
    "\n",
    "# Create a dictionary with feature names as keys and importance scores as values\n",
    "feature_importance = dict(zip(feature_names, importance_scores))\n",
    "\n",
    "# Sort the features based on their importance scores\n",
    "sorted_features = sorted(feature_importance.items(), key=lambda x: x[1], reverse=True)\n",
    "\n",
    "# Print the feature importance in descending order\n",
    "for feature, importance in sorted_features:\n",
    "    print(f\"{feature}: {importance}\")\n",
    "\n",
    "# Plot the feature importance\n",
    "plt.figure(figsize=(10, 6))\n",
    "plt.barh(range(len(importance_scores)), importance_scores, align='center')\n",
    "plt.yticks(range(len(feature_names)), feature_names)\n",
    "plt.xlabel('Feature Importance')\n",
    "plt.ylabel('Features')\n",
    "plt.title('Feature Importance Scores')\n",
    "plt.show()"
   ]
  },
  {
   "cell_type": "code",
   "execution_count": null,
   "id": "cb9f3708",
   "metadata": {},
   "outputs": [],
   "source": [
    "x = PrettyTable()\n",
    "print('\\n')\n",
    "print(\"Comparison of Models Results\")\n",
    "x.field_names = [\"Model\", \"Accuracy\"]\n",
    "\n",
    "x.add_row([\"Random Forest\", round(accuracy_score(y_test, models.predict(x_test)), 3)])\n",
    "x.add_row([\"SVM\", round(accuracy_score(y_test, svm.predict(x_test)), 3)])\n",
    "x.add_row([\"XGBoost\", round(accuracy_score(y_test, xgb_model.predict(x_test)), 2)])\n",
    "x.add_row([\"Logistic Regression\", round(accuracy_score(y_test, log_reg_final.predict(x_test)), 2)])\n",
    "\n",
    "print(x)\n",
    "print('\\n')"
   ]
  }
 ],
 "metadata": {
  "kernelspec": {
   "display_name": "smoker-prediction",
   "language": "python",
   "name": "python3"
  },
  "language_info": {
   "codemirror_mode": {
    "name": "ipython",
    "version": 3
   },
   "file_extension": ".py",
   "mimetype": "text/x-python",
   "name": "python",
   "nbconvert_exporter": "python",
   "pygments_lexer": "ipython3",
   "version": "3.10.18"
  }
 },
 "nbformat": 4,
 "nbformat_minor": 5
}
